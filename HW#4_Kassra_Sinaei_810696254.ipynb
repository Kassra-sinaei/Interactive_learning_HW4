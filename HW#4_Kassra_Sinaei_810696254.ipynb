{
  "nbformat": 4,
  "nbformat_minor": 0,
  "metadata": {
    "kernelspec": {
      "display_name": "Python 3",
      "language": "python",
      "name": "python3"
    },
    "language_info": {
      "codemirror_mode": {
        "name": "ipython",
        "version": 3
      },
      "file_extension": ".py",
      "mimetype": "text/x-python",
      "name": "python",
      "nbconvert_exporter": "python",
      "pygments_lexer": "ipython3",
      "version": "3.7.6"
    },
    "colab": {
      "name": "Environment.ipynb",
      "provenance": [],
      "collapsed_sections": []
    }
  },
  "cells": [
    {
      "cell_type": "markdown",
      "metadata": {
        "id": "AYzoyW5Y6msU"
      },
      "source": [
        "#### In google colab you may need to install the below library."
      ]
    },
    {
      "cell_type": "code",
      "metadata": {
        "colab": {
          "base_uri": "https://localhost:8080/"
        },
        "id": "i-O7kmSUvKpd",
        "outputId": "c4ba633a-db8a-4350-c13a-eccaa77a3fc8"
      },
      "source": [
        "%pip install colorama"
      ],
      "execution_count": 25,
      "outputs": [
        {
          "output_type": "stream",
          "text": [
            "Requirement already satisfied: colorama in /usr/local/lib/python3.6/dist-packages (0.4.4)\n"
          ],
          "name": "stdout"
        }
      ]
    },
    {
      "cell_type": "code",
      "metadata": {
        "id": "4b8e00rmtbrm"
      },
      "source": [
        "import seaborn as sns\r\n",
        "import matplotlib.pyplot as plt\r\n",
        "import time\r\n",
        "import sys\r\n",
        "import os\r\n",
        "%matplotlib inline"
      ],
      "execution_count": 111,
      "outputs": []
    },
    {
      "cell_type": "code",
      "metadata": {
        "id": "PpNeLPdclEYF"
      },
      "source": [
        "import random\n",
        "import pprint\n",
        "import io\n",
        "import numpy as np\n",
        "import sys\n",
        "from gym.envs.toy_text import discrete\n",
        "from colorama import Fore, Back, Style\n",
        "\n",
        "UP = 0\n",
        "RIGHT = 1\n",
        "DOWN = 2\n",
        "LEFT = 3\n",
        "\n",
        "class GridworldEnv(discrete.DiscreteEnv):\n",
        "  metadata = {'render.modes': ['human', 'ansi']}\n",
        "\n",
        "  def __init__(self, shape=[10,10]):\n",
        "    if not isinstance(shape, (list, tuple)) or not len(shape) == 2:\n",
        "        raise ValueError('shape argument must be a list/tuple of length 2')\n",
        "        \n",
        "    self.shape = shape\n",
        "\n",
        "    nS = np.prod(shape)\n",
        "    nA = 4\n",
        "\n",
        "    MAX_Y = shape[0]\n",
        "    MAX_X = shape[1]\n",
        "\n",
        "    P = {}\n",
        "    grid = np.arange(nS).reshape(shape)\n",
        "    it = np.nditer(grid, flags=['multi_index'])\n",
        "\n",
        "    while not it.finished:\n",
        "      s = it.iterindex\n",
        "      y, x = it.multi_index\n",
        "\n",
        "      # P[s][a] = (prob, next_state, reward, is_done)\n",
        "      P[s] = {a : [] for a in range(nA)}\n",
        "\n",
        "      #Reaching target\n",
        "      is_done = lambda s: s == 0\n",
        "\n",
        "      #Due to existance of walls, these moves are not available\n",
        "      no_up = lambda s: s in [44,45,63,64]\n",
        "      no_down = lambda s: s in [23,24,25,44]\n",
        "      no_left = lambda s: s in [44,36,55]\n",
        "      no_right = lambda s: s in [32,42,52]\n",
        "\n",
        "      #Barries in the path\n",
        "      pit = lambda s: s in [13,62,41]\n",
        "      wall = lambda s: s in [43,33,53,34,35,54]\n",
        "\n",
        "      #Rewards of each state\n",
        "      reward = 1.0 if is_done(s) else 0.0\n",
        "      reward = -10.0 if pit(s) else reward\n",
        "      \n",
        "      ns_up = s if y == 0 else s - MAX_X\n",
        "      ns_right = s if x == (MAX_X - 1) else s + 1\n",
        "      ns_down = s if y == (MAX_Y - 1) else s + MAX_X\n",
        "      ns_left = s if x == 0 else s - 1\n",
        "      \n",
        "      P[s][UP] = [(1, ns_up, reward, is_done(ns_up))]\n",
        "      P[s][RIGHT] = [(1.0, ns_right, reward, is_done(ns_right))]\n",
        "      P[s][DOWN] = [(1, ns_down, reward, is_done(ns_down))]\n",
        "      P[s][LEFT] = [(1, ns_left, reward, is_done(ns_left))]\n",
        "\n",
        "      #Terminal state\n",
        "      if is_done(s):\n",
        "        P[s][UP] = [(1.0, s, reward, True)]\n",
        "        P[s][RIGHT] = [(1.0, s, reward, True)]\n",
        "        P[s][DOWN] = [(1.0, s, reward, True)]\n",
        "        P[s][LEFT] = [(1.0, s, reward, True)]\n",
        "\n",
        "      #Encountering walls\n",
        "      if no_up(s):\n",
        "        P[s][UP] = [(1.0, s, -3.0 , False)]                \n",
        "      if no_down(s):\n",
        "        P[s][DOWN] = [(1.0, s, -3.0 , False)]                \n",
        "      if no_right(s):\n",
        "        P[s][RIGHT] = [(1.0, s, -3.0 , False)]  \n",
        "      if no_left(s):\n",
        "        P[s][LEFT] = [(1.0, s, -3.0 , False)] \n",
        "\n",
        "      it.iternext() \n",
        "\n",
        "    # Initial state distribution is uniform\n",
        "    isd = np.zeros(100)\n",
        "    isd[44]=1\n",
        "    self.P = P\n",
        "\n",
        "    super(GridworldEnv, self).__init__(nS, nA, P, isd)\n",
        "\n",
        "  def _render(self, mode='human', close=False):\n",
        "    if close:\n",
        "      return\n",
        "\n",
        "    outfile = io.StringIO() if mode == 'ansi' else sys.stdout\n",
        "\n",
        "    grid = np.arange(self.nS).reshape(self.shape)\n",
        "    it = np.nditer(grid, flags=['multi_index'])\n",
        "\n",
        "    while not it.finished:\n",
        "      s = it.iterindex\n",
        "      y, x = it.multi_index\n",
        "\n",
        "      if self.s == s and not s==0:\n",
        "        output =  Back.CYAN + Style.BRIGHT + Fore.WHITE +  \"  웃 \" + Style.RESET_ALL if s not in [13,62,41] else Back.BLUE + Style.BRIGHT + Fore.WHITE + \"  웃 \" + Style.RESET_ALL\n",
        "      elif s == 0:\n",
        "          output = Back.GREEN + Style.BRIGHT + Fore.WHITE + \"     \" + Style.RESET_ALL if not self.s==0 else Back.GREEN + Style.BRIGHT + Fore.WHITE +  \"  웃 \" + Style.RESET_ALL\n",
        "      elif s in [13,62,41]:\n",
        "          output = Back.BLUE + \"     \" + Style.RESET_ALL\n",
        "      elif s in [43,33,53,34,35,54]:\n",
        "          output = Back.CYAN + Style.BRIGHT + Fore.BLACK +   \"  █  \"  + Style.RESET_ALL\n",
        "      else:\n",
        "          output = Back.CYAN + Style.BRIGHT + Fore.BLACK +  \"  .  \" + Style.RESET_ALL\n",
        "\n",
        "      if x == 0:\n",
        "          output = output.lstrip()\n",
        "      if x == self.shape[1] - 1:\n",
        "          output = output.rstrip()\n",
        "\n",
        "      outfile.write(output)\n",
        "\n",
        "      if x == self.shape[1] - 1:\n",
        "          outfile.write(\"\\n\")\n",
        "\n",
        "      it.iternext()"
      ],
      "execution_count": 27,
      "outputs": []
    },
    {
      "cell_type": "markdown",
      "metadata": {
        "id": "T_-Io6eu6Muz"
      },
      "source": [
        "### How to use the above class? ###"
      ]
    },
    {
      "cell_type": "code",
      "metadata": {
        "colab": {
          "base_uri": "https://localhost:8080/"
        },
        "id": "eoM-4yHklEYM",
        "outputId": "5d20e346-9548-477f-bff6-be526cb92067"
      },
      "source": [
        "env =  GridworldEnv()\n",
        "env.reset()\n",
        "env._render()\n",
        "\n",
        "for _ in range(4):\n",
        "    action = env.action_space.sample()\n",
        "    state, reward, done, info = env.step(action) # Take a random action\n",
        "    print(info)\n",
        "    print('action:',action)\n",
        "    env._render()\n",
        "env.close()\n"
      ],
      "execution_count": null,
      "outputs": [
        {
          "output_type": "stream",
          "text": [
            "\u001b[42m\u001b[1m\u001b[37m     \u001b[0m\u001b[46m\u001b[1m\u001b[30m  .  \u001b[0m\u001b[46m\u001b[1m\u001b[30m  .  \u001b[0m\u001b[46m\u001b[1m\u001b[30m  .  \u001b[0m\u001b[46m\u001b[1m\u001b[30m  .  \u001b[0m\u001b[46m\u001b[1m\u001b[30m  .  \u001b[0m\u001b[46m\u001b[1m\u001b[30m  .  \u001b[0m\u001b[46m\u001b[1m\u001b[30m  .  \u001b[0m\u001b[46m\u001b[1m\u001b[30m  .  \u001b[0m\u001b[46m\u001b[1m\u001b[30m  .  \u001b[0m\n",
            "\u001b[46m\u001b[1m\u001b[30m  .  \u001b[0m\u001b[46m\u001b[1m\u001b[30m  .  \u001b[0m\u001b[46m\u001b[1m\u001b[30m  .  \u001b[0m\u001b[44m     \u001b[0m\u001b[46m\u001b[1m\u001b[30m  .  \u001b[0m\u001b[46m\u001b[1m\u001b[30m  .  \u001b[0m\u001b[46m\u001b[1m\u001b[30m  .  \u001b[0m\u001b[46m\u001b[1m\u001b[30m  .  \u001b[0m\u001b[46m\u001b[1m\u001b[30m  .  \u001b[0m\u001b[46m\u001b[1m\u001b[30m  .  \u001b[0m\n",
            "\u001b[46m\u001b[1m\u001b[30m  .  \u001b[0m\u001b[46m\u001b[1m\u001b[30m  .  \u001b[0m\u001b[46m\u001b[1m\u001b[30m  .  \u001b[0m\u001b[46m\u001b[1m\u001b[30m  .  \u001b[0m\u001b[46m\u001b[1m\u001b[30m  .  \u001b[0m\u001b[46m\u001b[1m\u001b[30m  .  \u001b[0m\u001b[46m\u001b[1m\u001b[30m  .  \u001b[0m\u001b[46m\u001b[1m\u001b[30m  .  \u001b[0m\u001b[46m\u001b[1m\u001b[30m  .  \u001b[0m\u001b[46m\u001b[1m\u001b[30m  .  \u001b[0m\n",
            "\u001b[46m\u001b[1m\u001b[30m  .  \u001b[0m\u001b[46m\u001b[1m\u001b[30m  .  \u001b[0m\u001b[46m\u001b[1m\u001b[30m  .  \u001b[0m\u001b[46m\u001b[1m\u001b[30m  █  \u001b[0m\u001b[46m\u001b[1m\u001b[30m  █  \u001b[0m\u001b[46m\u001b[1m\u001b[30m  █  \u001b[0m\u001b[46m\u001b[1m\u001b[30m  .  \u001b[0m\u001b[46m\u001b[1m\u001b[30m  .  \u001b[0m\u001b[46m\u001b[1m\u001b[30m  .  \u001b[0m\u001b[46m\u001b[1m\u001b[30m  .  \u001b[0m\n",
            "\u001b[46m\u001b[1m\u001b[30m  .  \u001b[0m\u001b[44m     \u001b[0m\u001b[46m\u001b[1m\u001b[30m  .  \u001b[0m\u001b[46m\u001b[1m\u001b[30m  █  \u001b[0m\u001b[46m\u001b[1m\u001b[37m  웃 \u001b[0m\u001b[46m\u001b[1m\u001b[30m  .  \u001b[0m\u001b[46m\u001b[1m\u001b[30m  .  \u001b[0m\u001b[46m\u001b[1m\u001b[30m  .  \u001b[0m\u001b[46m\u001b[1m\u001b[30m  .  \u001b[0m\u001b[46m\u001b[1m\u001b[30m  .  \u001b[0m\n",
            "\u001b[46m\u001b[1m\u001b[30m  .  \u001b[0m\u001b[46m\u001b[1m\u001b[30m  .  \u001b[0m\u001b[46m\u001b[1m\u001b[30m  .  \u001b[0m\u001b[46m\u001b[1m\u001b[30m  █  \u001b[0m\u001b[46m\u001b[1m\u001b[30m  █  \u001b[0m\u001b[46m\u001b[1m\u001b[30m  .  \u001b[0m\u001b[46m\u001b[1m\u001b[30m  .  \u001b[0m\u001b[46m\u001b[1m\u001b[30m  .  \u001b[0m\u001b[46m\u001b[1m\u001b[30m  .  \u001b[0m\u001b[46m\u001b[1m\u001b[30m  .  \u001b[0m\n",
            "\u001b[46m\u001b[1m\u001b[30m  .  \u001b[0m\u001b[46m\u001b[1m\u001b[30m  .  \u001b[0m\u001b[44m     \u001b[0m\u001b[46m\u001b[1m\u001b[30m  .  \u001b[0m\u001b[46m\u001b[1m\u001b[30m  .  \u001b[0m\u001b[46m\u001b[1m\u001b[30m  .  \u001b[0m\u001b[46m\u001b[1m\u001b[30m  .  \u001b[0m\u001b[46m\u001b[1m\u001b[30m  .  \u001b[0m\u001b[46m\u001b[1m\u001b[30m  .  \u001b[0m\u001b[46m\u001b[1m\u001b[30m  .  \u001b[0m\n",
            "\u001b[46m\u001b[1m\u001b[30m  .  \u001b[0m\u001b[46m\u001b[1m\u001b[30m  .  \u001b[0m\u001b[46m\u001b[1m\u001b[30m  .  \u001b[0m\u001b[46m\u001b[1m\u001b[30m  .  \u001b[0m\u001b[46m\u001b[1m\u001b[30m  .  \u001b[0m\u001b[46m\u001b[1m\u001b[30m  .  \u001b[0m\u001b[46m\u001b[1m\u001b[30m  .  \u001b[0m\u001b[46m\u001b[1m\u001b[30m  .  \u001b[0m\u001b[46m\u001b[1m\u001b[30m  .  \u001b[0m\u001b[46m\u001b[1m\u001b[30m  .  \u001b[0m\n",
            "\u001b[46m\u001b[1m\u001b[30m  .  \u001b[0m\u001b[46m\u001b[1m\u001b[30m  .  \u001b[0m\u001b[46m\u001b[1m\u001b[30m  .  \u001b[0m\u001b[46m\u001b[1m\u001b[30m  .  \u001b[0m\u001b[46m\u001b[1m\u001b[30m  .  \u001b[0m\u001b[46m\u001b[1m\u001b[30m  .  \u001b[0m\u001b[46m\u001b[1m\u001b[30m  .  \u001b[0m\u001b[46m\u001b[1m\u001b[30m  .  \u001b[0m\u001b[46m\u001b[1m\u001b[30m  .  \u001b[0m\u001b[46m\u001b[1m\u001b[30m  .  \u001b[0m\n",
            "\u001b[46m\u001b[1m\u001b[30m  .  \u001b[0m\u001b[46m\u001b[1m\u001b[30m  .  \u001b[0m\u001b[46m\u001b[1m\u001b[30m  .  \u001b[0m\u001b[46m\u001b[1m\u001b[30m  .  \u001b[0m\u001b[46m\u001b[1m\u001b[30m  .  \u001b[0m\u001b[46m\u001b[1m\u001b[30m  .  \u001b[0m\u001b[46m\u001b[1m\u001b[30m  .  \u001b[0m\u001b[46m\u001b[1m\u001b[30m  .  \u001b[0m\u001b[46m\u001b[1m\u001b[30m  .  \u001b[0m\u001b[46m\u001b[1m\u001b[30m  .  \u001b[0m\n",
            "{'prob': 1.0}\n",
            "action: 1\n",
            "\u001b[42m\u001b[1m\u001b[37m     \u001b[0m\u001b[46m\u001b[1m\u001b[30m  .  \u001b[0m\u001b[46m\u001b[1m\u001b[30m  .  \u001b[0m\u001b[46m\u001b[1m\u001b[30m  .  \u001b[0m\u001b[46m\u001b[1m\u001b[30m  .  \u001b[0m\u001b[46m\u001b[1m\u001b[30m  .  \u001b[0m\u001b[46m\u001b[1m\u001b[30m  .  \u001b[0m\u001b[46m\u001b[1m\u001b[30m  .  \u001b[0m\u001b[46m\u001b[1m\u001b[30m  .  \u001b[0m\u001b[46m\u001b[1m\u001b[30m  .  \u001b[0m\n",
            "\u001b[46m\u001b[1m\u001b[30m  .  \u001b[0m\u001b[46m\u001b[1m\u001b[30m  .  \u001b[0m\u001b[46m\u001b[1m\u001b[30m  .  \u001b[0m\u001b[44m     \u001b[0m\u001b[46m\u001b[1m\u001b[30m  .  \u001b[0m\u001b[46m\u001b[1m\u001b[30m  .  \u001b[0m\u001b[46m\u001b[1m\u001b[30m  .  \u001b[0m\u001b[46m\u001b[1m\u001b[30m  .  \u001b[0m\u001b[46m\u001b[1m\u001b[30m  .  \u001b[0m\u001b[46m\u001b[1m\u001b[30m  .  \u001b[0m\n",
            "\u001b[46m\u001b[1m\u001b[30m  .  \u001b[0m\u001b[46m\u001b[1m\u001b[30m  .  \u001b[0m\u001b[46m\u001b[1m\u001b[30m  .  \u001b[0m\u001b[46m\u001b[1m\u001b[30m  .  \u001b[0m\u001b[46m\u001b[1m\u001b[30m  .  \u001b[0m\u001b[46m\u001b[1m\u001b[30m  .  \u001b[0m\u001b[46m\u001b[1m\u001b[30m  .  \u001b[0m\u001b[46m\u001b[1m\u001b[30m  .  \u001b[0m\u001b[46m\u001b[1m\u001b[30m  .  \u001b[0m\u001b[46m\u001b[1m\u001b[30m  .  \u001b[0m\n",
            "\u001b[46m\u001b[1m\u001b[30m  .  \u001b[0m\u001b[46m\u001b[1m\u001b[30m  .  \u001b[0m\u001b[46m\u001b[1m\u001b[30m  .  \u001b[0m\u001b[46m\u001b[1m\u001b[30m  █  \u001b[0m\u001b[46m\u001b[1m\u001b[30m  █  \u001b[0m\u001b[46m\u001b[1m\u001b[30m  █  \u001b[0m\u001b[46m\u001b[1m\u001b[30m  .  \u001b[0m\u001b[46m\u001b[1m\u001b[30m  .  \u001b[0m\u001b[46m\u001b[1m\u001b[30m  .  \u001b[0m\u001b[46m\u001b[1m\u001b[30m  .  \u001b[0m\n",
            "\u001b[46m\u001b[1m\u001b[30m  .  \u001b[0m\u001b[44m     \u001b[0m\u001b[46m\u001b[1m\u001b[30m  .  \u001b[0m\u001b[46m\u001b[1m\u001b[30m  █  \u001b[0m\u001b[46m\u001b[1m\u001b[30m  .  \u001b[0m\u001b[46m\u001b[1m\u001b[37m  웃 \u001b[0m\u001b[46m\u001b[1m\u001b[30m  .  \u001b[0m\u001b[46m\u001b[1m\u001b[30m  .  \u001b[0m\u001b[46m\u001b[1m\u001b[30m  .  \u001b[0m\u001b[46m\u001b[1m\u001b[30m  .  \u001b[0m\n",
            "\u001b[46m\u001b[1m\u001b[30m  .  \u001b[0m\u001b[46m\u001b[1m\u001b[30m  .  \u001b[0m\u001b[46m\u001b[1m\u001b[30m  .  \u001b[0m\u001b[46m\u001b[1m\u001b[30m  █  \u001b[0m\u001b[46m\u001b[1m\u001b[30m  █  \u001b[0m\u001b[46m\u001b[1m\u001b[30m  .  \u001b[0m\u001b[46m\u001b[1m\u001b[30m  .  \u001b[0m\u001b[46m\u001b[1m\u001b[30m  .  \u001b[0m\u001b[46m\u001b[1m\u001b[30m  .  \u001b[0m\u001b[46m\u001b[1m\u001b[30m  .  \u001b[0m\n",
            "\u001b[46m\u001b[1m\u001b[30m  .  \u001b[0m\u001b[46m\u001b[1m\u001b[30m  .  \u001b[0m\u001b[44m     \u001b[0m\u001b[46m\u001b[1m\u001b[30m  .  \u001b[0m\u001b[46m\u001b[1m\u001b[30m  .  \u001b[0m\u001b[46m\u001b[1m\u001b[30m  .  \u001b[0m\u001b[46m\u001b[1m\u001b[30m  .  \u001b[0m\u001b[46m\u001b[1m\u001b[30m  .  \u001b[0m\u001b[46m\u001b[1m\u001b[30m  .  \u001b[0m\u001b[46m\u001b[1m\u001b[30m  .  \u001b[0m\n",
            "\u001b[46m\u001b[1m\u001b[30m  .  \u001b[0m\u001b[46m\u001b[1m\u001b[30m  .  \u001b[0m\u001b[46m\u001b[1m\u001b[30m  .  \u001b[0m\u001b[46m\u001b[1m\u001b[30m  .  \u001b[0m\u001b[46m\u001b[1m\u001b[30m  .  \u001b[0m\u001b[46m\u001b[1m\u001b[30m  .  \u001b[0m\u001b[46m\u001b[1m\u001b[30m  .  \u001b[0m\u001b[46m\u001b[1m\u001b[30m  .  \u001b[0m\u001b[46m\u001b[1m\u001b[30m  .  \u001b[0m\u001b[46m\u001b[1m\u001b[30m  .  \u001b[0m\n",
            "\u001b[46m\u001b[1m\u001b[30m  .  \u001b[0m\u001b[46m\u001b[1m\u001b[30m  .  \u001b[0m\u001b[46m\u001b[1m\u001b[30m  .  \u001b[0m\u001b[46m\u001b[1m\u001b[30m  .  \u001b[0m\u001b[46m\u001b[1m\u001b[30m  .  \u001b[0m\u001b[46m\u001b[1m\u001b[30m  .  \u001b[0m\u001b[46m\u001b[1m\u001b[30m  .  \u001b[0m\u001b[46m\u001b[1m\u001b[30m  .  \u001b[0m\u001b[46m\u001b[1m\u001b[30m  .  \u001b[0m\u001b[46m\u001b[1m\u001b[30m  .  \u001b[0m\n",
            "\u001b[46m\u001b[1m\u001b[30m  .  \u001b[0m\u001b[46m\u001b[1m\u001b[30m  .  \u001b[0m\u001b[46m\u001b[1m\u001b[30m  .  \u001b[0m\u001b[46m\u001b[1m\u001b[30m  .  \u001b[0m\u001b[46m\u001b[1m\u001b[30m  .  \u001b[0m\u001b[46m\u001b[1m\u001b[30m  .  \u001b[0m\u001b[46m\u001b[1m\u001b[30m  .  \u001b[0m\u001b[46m\u001b[1m\u001b[30m  .  \u001b[0m\u001b[46m\u001b[1m\u001b[30m  .  \u001b[0m\u001b[46m\u001b[1m\u001b[30m  .  \u001b[0m\n",
            "{'prob': 1}\n",
            "action: 2\n",
            "\u001b[42m\u001b[1m\u001b[37m     \u001b[0m\u001b[46m\u001b[1m\u001b[30m  .  \u001b[0m\u001b[46m\u001b[1m\u001b[30m  .  \u001b[0m\u001b[46m\u001b[1m\u001b[30m  .  \u001b[0m\u001b[46m\u001b[1m\u001b[30m  .  \u001b[0m\u001b[46m\u001b[1m\u001b[30m  .  \u001b[0m\u001b[46m\u001b[1m\u001b[30m  .  \u001b[0m\u001b[46m\u001b[1m\u001b[30m  .  \u001b[0m\u001b[46m\u001b[1m\u001b[30m  .  \u001b[0m\u001b[46m\u001b[1m\u001b[30m  .  \u001b[0m\n",
            "\u001b[46m\u001b[1m\u001b[30m  .  \u001b[0m\u001b[46m\u001b[1m\u001b[30m  .  \u001b[0m\u001b[46m\u001b[1m\u001b[30m  .  \u001b[0m\u001b[44m     \u001b[0m\u001b[46m\u001b[1m\u001b[30m  .  \u001b[0m\u001b[46m\u001b[1m\u001b[30m  .  \u001b[0m\u001b[46m\u001b[1m\u001b[30m  .  \u001b[0m\u001b[46m\u001b[1m\u001b[30m  .  \u001b[0m\u001b[46m\u001b[1m\u001b[30m  .  \u001b[0m\u001b[46m\u001b[1m\u001b[30m  .  \u001b[0m\n",
            "\u001b[46m\u001b[1m\u001b[30m  .  \u001b[0m\u001b[46m\u001b[1m\u001b[30m  .  \u001b[0m\u001b[46m\u001b[1m\u001b[30m  .  \u001b[0m\u001b[46m\u001b[1m\u001b[30m  .  \u001b[0m\u001b[46m\u001b[1m\u001b[30m  .  \u001b[0m\u001b[46m\u001b[1m\u001b[30m  .  \u001b[0m\u001b[46m\u001b[1m\u001b[30m  .  \u001b[0m\u001b[46m\u001b[1m\u001b[30m  .  \u001b[0m\u001b[46m\u001b[1m\u001b[30m  .  \u001b[0m\u001b[46m\u001b[1m\u001b[30m  .  \u001b[0m\n",
            "\u001b[46m\u001b[1m\u001b[30m  .  \u001b[0m\u001b[46m\u001b[1m\u001b[30m  .  \u001b[0m\u001b[46m\u001b[1m\u001b[30m  .  \u001b[0m\u001b[46m\u001b[1m\u001b[30m  █  \u001b[0m\u001b[46m\u001b[1m\u001b[30m  █  \u001b[0m\u001b[46m\u001b[1m\u001b[30m  █  \u001b[0m\u001b[46m\u001b[1m\u001b[30m  .  \u001b[0m\u001b[46m\u001b[1m\u001b[30m  .  \u001b[0m\u001b[46m\u001b[1m\u001b[30m  .  \u001b[0m\u001b[46m\u001b[1m\u001b[30m  .  \u001b[0m\n",
            "\u001b[46m\u001b[1m\u001b[30m  .  \u001b[0m\u001b[44m     \u001b[0m\u001b[46m\u001b[1m\u001b[30m  .  \u001b[0m\u001b[46m\u001b[1m\u001b[30m  █  \u001b[0m\u001b[46m\u001b[1m\u001b[30m  .  \u001b[0m\u001b[46m\u001b[1m\u001b[30m  .  \u001b[0m\u001b[46m\u001b[1m\u001b[30m  .  \u001b[0m\u001b[46m\u001b[1m\u001b[30m  .  \u001b[0m\u001b[46m\u001b[1m\u001b[30m  .  \u001b[0m\u001b[46m\u001b[1m\u001b[30m  .  \u001b[0m\n",
            "\u001b[46m\u001b[1m\u001b[30m  .  \u001b[0m\u001b[46m\u001b[1m\u001b[30m  .  \u001b[0m\u001b[46m\u001b[1m\u001b[30m  .  \u001b[0m\u001b[46m\u001b[1m\u001b[30m  █  \u001b[0m\u001b[46m\u001b[1m\u001b[30m  █  \u001b[0m\u001b[46m\u001b[1m\u001b[37m  웃 \u001b[0m\u001b[46m\u001b[1m\u001b[30m  .  \u001b[0m\u001b[46m\u001b[1m\u001b[30m  .  \u001b[0m\u001b[46m\u001b[1m\u001b[30m  .  \u001b[0m\u001b[46m\u001b[1m\u001b[30m  .  \u001b[0m\n",
            "\u001b[46m\u001b[1m\u001b[30m  .  \u001b[0m\u001b[46m\u001b[1m\u001b[30m  .  \u001b[0m\u001b[44m     \u001b[0m\u001b[46m\u001b[1m\u001b[30m  .  \u001b[0m\u001b[46m\u001b[1m\u001b[30m  .  \u001b[0m\u001b[46m\u001b[1m\u001b[30m  .  \u001b[0m\u001b[46m\u001b[1m\u001b[30m  .  \u001b[0m\u001b[46m\u001b[1m\u001b[30m  .  \u001b[0m\u001b[46m\u001b[1m\u001b[30m  .  \u001b[0m\u001b[46m\u001b[1m\u001b[30m  .  \u001b[0m\n",
            "\u001b[46m\u001b[1m\u001b[30m  .  \u001b[0m\u001b[46m\u001b[1m\u001b[30m  .  \u001b[0m\u001b[46m\u001b[1m\u001b[30m  .  \u001b[0m\u001b[46m\u001b[1m\u001b[30m  .  \u001b[0m\u001b[46m\u001b[1m\u001b[30m  .  \u001b[0m\u001b[46m\u001b[1m\u001b[30m  .  \u001b[0m\u001b[46m\u001b[1m\u001b[30m  .  \u001b[0m\u001b[46m\u001b[1m\u001b[30m  .  \u001b[0m\u001b[46m\u001b[1m\u001b[30m  .  \u001b[0m\u001b[46m\u001b[1m\u001b[30m  .  \u001b[0m\n",
            "\u001b[46m\u001b[1m\u001b[30m  .  \u001b[0m\u001b[46m\u001b[1m\u001b[30m  .  \u001b[0m\u001b[46m\u001b[1m\u001b[30m  .  \u001b[0m\u001b[46m\u001b[1m\u001b[30m  .  \u001b[0m\u001b[46m\u001b[1m\u001b[30m  .  \u001b[0m\u001b[46m\u001b[1m\u001b[30m  .  \u001b[0m\u001b[46m\u001b[1m\u001b[30m  .  \u001b[0m\u001b[46m\u001b[1m\u001b[30m  .  \u001b[0m\u001b[46m\u001b[1m\u001b[30m  .  \u001b[0m\u001b[46m\u001b[1m\u001b[30m  .  \u001b[0m\n",
            "\u001b[46m\u001b[1m\u001b[30m  .  \u001b[0m\u001b[46m\u001b[1m\u001b[30m  .  \u001b[0m\u001b[46m\u001b[1m\u001b[30m  .  \u001b[0m\u001b[46m\u001b[1m\u001b[30m  .  \u001b[0m\u001b[46m\u001b[1m\u001b[30m  .  \u001b[0m\u001b[46m\u001b[1m\u001b[30m  .  \u001b[0m\u001b[46m\u001b[1m\u001b[30m  .  \u001b[0m\u001b[46m\u001b[1m\u001b[30m  .  \u001b[0m\u001b[46m\u001b[1m\u001b[30m  .  \u001b[0m\u001b[46m\u001b[1m\u001b[30m  .  \u001b[0m\n",
            "{'prob': 1}\n",
            "action: 0\n",
            "\u001b[42m\u001b[1m\u001b[37m     \u001b[0m\u001b[46m\u001b[1m\u001b[30m  .  \u001b[0m\u001b[46m\u001b[1m\u001b[30m  .  \u001b[0m\u001b[46m\u001b[1m\u001b[30m  .  \u001b[0m\u001b[46m\u001b[1m\u001b[30m  .  \u001b[0m\u001b[46m\u001b[1m\u001b[30m  .  \u001b[0m\u001b[46m\u001b[1m\u001b[30m  .  \u001b[0m\u001b[46m\u001b[1m\u001b[30m  .  \u001b[0m\u001b[46m\u001b[1m\u001b[30m  .  \u001b[0m\u001b[46m\u001b[1m\u001b[30m  .  \u001b[0m\n",
            "\u001b[46m\u001b[1m\u001b[30m  .  \u001b[0m\u001b[46m\u001b[1m\u001b[30m  .  \u001b[0m\u001b[46m\u001b[1m\u001b[30m  .  \u001b[0m\u001b[44m     \u001b[0m\u001b[46m\u001b[1m\u001b[30m  .  \u001b[0m\u001b[46m\u001b[1m\u001b[30m  .  \u001b[0m\u001b[46m\u001b[1m\u001b[30m  .  \u001b[0m\u001b[46m\u001b[1m\u001b[30m  .  \u001b[0m\u001b[46m\u001b[1m\u001b[30m  .  \u001b[0m\u001b[46m\u001b[1m\u001b[30m  .  \u001b[0m\n",
            "\u001b[46m\u001b[1m\u001b[30m  .  \u001b[0m\u001b[46m\u001b[1m\u001b[30m  .  \u001b[0m\u001b[46m\u001b[1m\u001b[30m  .  \u001b[0m\u001b[46m\u001b[1m\u001b[30m  .  \u001b[0m\u001b[46m\u001b[1m\u001b[30m  .  \u001b[0m\u001b[46m\u001b[1m\u001b[30m  .  \u001b[0m\u001b[46m\u001b[1m\u001b[30m  .  \u001b[0m\u001b[46m\u001b[1m\u001b[30m  .  \u001b[0m\u001b[46m\u001b[1m\u001b[30m  .  \u001b[0m\u001b[46m\u001b[1m\u001b[30m  .  \u001b[0m\n",
            "\u001b[46m\u001b[1m\u001b[30m  .  \u001b[0m\u001b[46m\u001b[1m\u001b[30m  .  \u001b[0m\u001b[46m\u001b[1m\u001b[30m  .  \u001b[0m\u001b[46m\u001b[1m\u001b[30m  █  \u001b[0m\u001b[46m\u001b[1m\u001b[30m  █  \u001b[0m\u001b[46m\u001b[1m\u001b[30m  █  \u001b[0m\u001b[46m\u001b[1m\u001b[30m  .  \u001b[0m\u001b[46m\u001b[1m\u001b[30m  .  \u001b[0m\u001b[46m\u001b[1m\u001b[30m  .  \u001b[0m\u001b[46m\u001b[1m\u001b[30m  .  \u001b[0m\n",
            "\u001b[46m\u001b[1m\u001b[30m  .  \u001b[0m\u001b[44m     \u001b[0m\u001b[46m\u001b[1m\u001b[30m  .  \u001b[0m\u001b[46m\u001b[1m\u001b[30m  █  \u001b[0m\u001b[46m\u001b[1m\u001b[30m  .  \u001b[0m\u001b[46m\u001b[1m\u001b[37m  웃 \u001b[0m\u001b[46m\u001b[1m\u001b[30m  .  \u001b[0m\u001b[46m\u001b[1m\u001b[30m  .  \u001b[0m\u001b[46m\u001b[1m\u001b[30m  .  \u001b[0m\u001b[46m\u001b[1m\u001b[30m  .  \u001b[0m\n",
            "\u001b[46m\u001b[1m\u001b[30m  .  \u001b[0m\u001b[46m\u001b[1m\u001b[30m  .  \u001b[0m\u001b[46m\u001b[1m\u001b[30m  .  \u001b[0m\u001b[46m\u001b[1m\u001b[30m  █  \u001b[0m\u001b[46m\u001b[1m\u001b[30m  █  \u001b[0m\u001b[46m\u001b[1m\u001b[30m  .  \u001b[0m\u001b[46m\u001b[1m\u001b[30m  .  \u001b[0m\u001b[46m\u001b[1m\u001b[30m  .  \u001b[0m\u001b[46m\u001b[1m\u001b[30m  .  \u001b[0m\u001b[46m\u001b[1m\u001b[30m  .  \u001b[0m\n",
            "\u001b[46m\u001b[1m\u001b[30m  .  \u001b[0m\u001b[46m\u001b[1m\u001b[30m  .  \u001b[0m\u001b[44m     \u001b[0m\u001b[46m\u001b[1m\u001b[30m  .  \u001b[0m\u001b[46m\u001b[1m\u001b[30m  .  \u001b[0m\u001b[46m\u001b[1m\u001b[30m  .  \u001b[0m\u001b[46m\u001b[1m\u001b[30m  .  \u001b[0m\u001b[46m\u001b[1m\u001b[30m  .  \u001b[0m\u001b[46m\u001b[1m\u001b[30m  .  \u001b[0m\u001b[46m\u001b[1m\u001b[30m  .  \u001b[0m\n",
            "\u001b[46m\u001b[1m\u001b[30m  .  \u001b[0m\u001b[46m\u001b[1m\u001b[30m  .  \u001b[0m\u001b[46m\u001b[1m\u001b[30m  .  \u001b[0m\u001b[46m\u001b[1m\u001b[30m  .  \u001b[0m\u001b[46m\u001b[1m\u001b[30m  .  \u001b[0m\u001b[46m\u001b[1m\u001b[30m  .  \u001b[0m\u001b[46m\u001b[1m\u001b[30m  .  \u001b[0m\u001b[46m\u001b[1m\u001b[30m  .  \u001b[0m\u001b[46m\u001b[1m\u001b[30m  .  \u001b[0m\u001b[46m\u001b[1m\u001b[30m  .  \u001b[0m\n",
            "\u001b[46m\u001b[1m\u001b[30m  .  \u001b[0m\u001b[46m\u001b[1m\u001b[30m  .  \u001b[0m\u001b[46m\u001b[1m\u001b[30m  .  \u001b[0m\u001b[46m\u001b[1m\u001b[30m  .  \u001b[0m\u001b[46m\u001b[1m\u001b[30m  .  \u001b[0m\u001b[46m\u001b[1m\u001b[30m  .  \u001b[0m\u001b[46m\u001b[1m\u001b[30m  .  \u001b[0m\u001b[46m\u001b[1m\u001b[30m  .  \u001b[0m\u001b[46m\u001b[1m\u001b[30m  .  \u001b[0m\u001b[46m\u001b[1m\u001b[30m  .  \u001b[0m\n",
            "\u001b[46m\u001b[1m\u001b[30m  .  \u001b[0m\u001b[46m\u001b[1m\u001b[30m  .  \u001b[0m\u001b[46m\u001b[1m\u001b[30m  .  \u001b[0m\u001b[46m\u001b[1m\u001b[30m  .  \u001b[0m\u001b[46m\u001b[1m\u001b[30m  .  \u001b[0m\u001b[46m\u001b[1m\u001b[30m  .  \u001b[0m\u001b[46m\u001b[1m\u001b[30m  .  \u001b[0m\u001b[46m\u001b[1m\u001b[30m  .  \u001b[0m\u001b[46m\u001b[1m\u001b[30m  .  \u001b[0m\u001b[46m\u001b[1m\u001b[30m  .  \u001b[0m\n",
            "{'prob': 1}\n",
            "action: 2\n",
            "\u001b[42m\u001b[1m\u001b[37m     \u001b[0m\u001b[46m\u001b[1m\u001b[30m  .  \u001b[0m\u001b[46m\u001b[1m\u001b[30m  .  \u001b[0m\u001b[46m\u001b[1m\u001b[30m  .  \u001b[0m\u001b[46m\u001b[1m\u001b[30m  .  \u001b[0m\u001b[46m\u001b[1m\u001b[30m  .  \u001b[0m\u001b[46m\u001b[1m\u001b[30m  .  \u001b[0m\u001b[46m\u001b[1m\u001b[30m  .  \u001b[0m\u001b[46m\u001b[1m\u001b[30m  .  \u001b[0m\u001b[46m\u001b[1m\u001b[30m  .  \u001b[0m\n",
            "\u001b[46m\u001b[1m\u001b[30m  .  \u001b[0m\u001b[46m\u001b[1m\u001b[30m  .  \u001b[0m\u001b[46m\u001b[1m\u001b[30m  .  \u001b[0m\u001b[44m     \u001b[0m\u001b[46m\u001b[1m\u001b[30m  .  \u001b[0m\u001b[46m\u001b[1m\u001b[30m  .  \u001b[0m\u001b[46m\u001b[1m\u001b[30m  .  \u001b[0m\u001b[46m\u001b[1m\u001b[30m  .  \u001b[0m\u001b[46m\u001b[1m\u001b[30m  .  \u001b[0m\u001b[46m\u001b[1m\u001b[30m  .  \u001b[0m\n",
            "\u001b[46m\u001b[1m\u001b[30m  .  \u001b[0m\u001b[46m\u001b[1m\u001b[30m  .  \u001b[0m\u001b[46m\u001b[1m\u001b[30m  .  \u001b[0m\u001b[46m\u001b[1m\u001b[30m  .  \u001b[0m\u001b[46m\u001b[1m\u001b[30m  .  \u001b[0m\u001b[46m\u001b[1m\u001b[30m  .  \u001b[0m\u001b[46m\u001b[1m\u001b[30m  .  \u001b[0m\u001b[46m\u001b[1m\u001b[30m  .  \u001b[0m\u001b[46m\u001b[1m\u001b[30m  .  \u001b[0m\u001b[46m\u001b[1m\u001b[30m  .  \u001b[0m\n",
            "\u001b[46m\u001b[1m\u001b[30m  .  \u001b[0m\u001b[46m\u001b[1m\u001b[30m  .  \u001b[0m\u001b[46m\u001b[1m\u001b[30m  .  \u001b[0m\u001b[46m\u001b[1m\u001b[30m  █  \u001b[0m\u001b[46m\u001b[1m\u001b[30m  █  \u001b[0m\u001b[46m\u001b[1m\u001b[30m  █  \u001b[0m\u001b[46m\u001b[1m\u001b[30m  .  \u001b[0m\u001b[46m\u001b[1m\u001b[30m  .  \u001b[0m\u001b[46m\u001b[1m\u001b[30m  .  \u001b[0m\u001b[46m\u001b[1m\u001b[30m  .  \u001b[0m\n",
            "\u001b[46m\u001b[1m\u001b[30m  .  \u001b[0m\u001b[44m     \u001b[0m\u001b[46m\u001b[1m\u001b[30m  .  \u001b[0m\u001b[46m\u001b[1m\u001b[30m  █  \u001b[0m\u001b[46m\u001b[1m\u001b[30m  .  \u001b[0m\u001b[46m\u001b[1m\u001b[30m  .  \u001b[0m\u001b[46m\u001b[1m\u001b[30m  .  \u001b[0m\u001b[46m\u001b[1m\u001b[30m  .  \u001b[0m\u001b[46m\u001b[1m\u001b[30m  .  \u001b[0m\u001b[46m\u001b[1m\u001b[30m  .  \u001b[0m\n",
            "\u001b[46m\u001b[1m\u001b[30m  .  \u001b[0m\u001b[46m\u001b[1m\u001b[30m  .  \u001b[0m\u001b[46m\u001b[1m\u001b[30m  .  \u001b[0m\u001b[46m\u001b[1m\u001b[30m  █  \u001b[0m\u001b[46m\u001b[1m\u001b[30m  █  \u001b[0m\u001b[46m\u001b[1m\u001b[37m  웃 \u001b[0m\u001b[46m\u001b[1m\u001b[30m  .  \u001b[0m\u001b[46m\u001b[1m\u001b[30m  .  \u001b[0m\u001b[46m\u001b[1m\u001b[30m  .  \u001b[0m\u001b[46m\u001b[1m\u001b[30m  .  \u001b[0m\n",
            "\u001b[46m\u001b[1m\u001b[30m  .  \u001b[0m\u001b[46m\u001b[1m\u001b[30m  .  \u001b[0m\u001b[44m     \u001b[0m\u001b[46m\u001b[1m\u001b[30m  .  \u001b[0m\u001b[46m\u001b[1m\u001b[30m  .  \u001b[0m\u001b[46m\u001b[1m\u001b[30m  .  \u001b[0m\u001b[46m\u001b[1m\u001b[30m  .  \u001b[0m\u001b[46m\u001b[1m\u001b[30m  .  \u001b[0m\u001b[46m\u001b[1m\u001b[30m  .  \u001b[0m\u001b[46m\u001b[1m\u001b[30m  .  \u001b[0m\n",
            "\u001b[46m\u001b[1m\u001b[30m  .  \u001b[0m\u001b[46m\u001b[1m\u001b[30m  .  \u001b[0m\u001b[46m\u001b[1m\u001b[30m  .  \u001b[0m\u001b[46m\u001b[1m\u001b[30m  .  \u001b[0m\u001b[46m\u001b[1m\u001b[30m  .  \u001b[0m\u001b[46m\u001b[1m\u001b[30m  .  \u001b[0m\u001b[46m\u001b[1m\u001b[30m  .  \u001b[0m\u001b[46m\u001b[1m\u001b[30m  .  \u001b[0m\u001b[46m\u001b[1m\u001b[30m  .  \u001b[0m\u001b[46m\u001b[1m\u001b[30m  .  \u001b[0m\n",
            "\u001b[46m\u001b[1m\u001b[30m  .  \u001b[0m\u001b[46m\u001b[1m\u001b[30m  .  \u001b[0m\u001b[46m\u001b[1m\u001b[30m  .  \u001b[0m\u001b[46m\u001b[1m\u001b[30m  .  \u001b[0m\u001b[46m\u001b[1m\u001b[30m  .  \u001b[0m\u001b[46m\u001b[1m\u001b[30m  .  \u001b[0m\u001b[46m\u001b[1m\u001b[30m  .  \u001b[0m\u001b[46m\u001b[1m\u001b[30m  .  \u001b[0m\u001b[46m\u001b[1m\u001b[30m  .  \u001b[0m\u001b[46m\u001b[1m\u001b[30m  .  \u001b[0m\n",
            "\u001b[46m\u001b[1m\u001b[30m  .  \u001b[0m\u001b[46m\u001b[1m\u001b[30m  .  \u001b[0m\u001b[46m\u001b[1m\u001b[30m  .  \u001b[0m\u001b[46m\u001b[1m\u001b[30m  .  \u001b[0m\u001b[46m\u001b[1m\u001b[30m  .  \u001b[0m\u001b[46m\u001b[1m\u001b[30m  .  \u001b[0m\u001b[46m\u001b[1m\u001b[30m  .  \u001b[0m\u001b[46m\u001b[1m\u001b[30m  .  \u001b[0m\u001b[46m\u001b[1m\u001b[30m  .  \u001b[0m\u001b[46m\u001b[1m\u001b[30m  .  \u001b[0m\n"
          ],
          "name": "stdout"
        }
      ]
    },
    {
      "cell_type": "markdown",
      "metadata": {
        "id": "v9iFaNAO-mR5"
      },
      "source": [
        "##On Policy First Visit MC"
      ]
    },
    {
      "cell_type": "code",
      "metadata": {
        "id": "cFteSEzP-rT4",
        "colab": {
          "base_uri": "https://localhost:8080/",
          "height": 299
        },
        "outputId": "93d517ca-703a-4bab-923c-58bbf5d25648"
      },
      "source": [
        "class OnPolicyMCAgent:\r\n",
        "    def __init__(self,environment,discount_factor = 0.9,epsilon = 0.25):\r\n",
        "        self.epsilon = epsilon\r\n",
        "        self.env = environment\r\n",
        "        self.q = np.zeros((self.env.nS, self.env.nA))\r\n",
        "        self.Returns = list('')\r\n",
        "        for i in range(self.env.nS):\r\n",
        "            self.Returns.append(list(''))\r\n",
        "            for j in range (self.env.nA):\r\n",
        "                self.Returns[i].append(list(''))\r\n",
        "        self.gamma = discount_factor\r\n",
        "        pass\r\n",
        "\r\n",
        "    def probabilities(self,values):\r\n",
        "        # Calculating Probability of each action in a state out of action values\r\n",
        "        # This Function will be used for greedy decision making in control\r\n",
        "        res = np.ones(self.env.nA, dtype = np.float64) * (self.epsilon / self.env.nA)\r\n",
        "        res[np.argmax(values)] += 1.0 - self.epsilon\r\n",
        "        return res\r\n",
        "\r\n",
        "    def generate_episode(self): #Using epsilon soft policy\r\n",
        "        state = self.env.reset()\r\n",
        "        trajectory = []\r\n",
        "        while True:\r\n",
        "            # Decision Making Based On Policy without exploring start\r\n",
        "            probs = self.probabilities(self.q[state])\r\n",
        "            action = np.random.choice(np.arange(self.env.nA),p=probs)\r\n",
        "            next_state, reward, done, info = self.env.step(action)\r\n",
        "            trajectory.append((state,action,reward))\r\n",
        "            state = next_state\r\n",
        "            if done or len(trajectory) == 700: # episode max length of 700\r\n",
        "                return trajectory\r\n",
        "\r\n",
        "\r\n",
        "    def control(self):\r\n",
        "        reward_sum = 0\r\n",
        "        G = 0\r\n",
        "        episode = self.generate_episode()\r\n",
        "        for idx,step in enumerate(episode[::-1]):\r\n",
        "            reward_sum += step[2]\r\n",
        "            G = self.gamma * G + step[2]\r\n",
        "            if step[0] not in np.array(episode[::-1])[:,0][idx+1:]: # first visit check\r\n",
        "                self.Returns[step[0]][step[1]].append(G)\r\n",
        "                self.q[step[0]][step[1]] = np.mean(self.Returns[step[0]][step[1]])\r\n",
        "        return reward_sum\r\n",
        "    \r\n",
        "    def print_agent(self):\r\n",
        "        ax = sns.heatmap(np.argmax(self.q,axis=1).reshape((10,10)))\r\n",
        "        print(np.argmax(self.q,axis=1).reshape((10,10)))\r\n",
        "\r\n",
        "    def __exit__(self):\r\n",
        "        self.env.close()\r\n",
        "\r\n",
        "\r\n",
        "env = GridworldEnv()\r\n",
        "agent1 = OnPolicyMCAgent(env)\r\n",
        "\r\n",
        "reward_hist = list('')\r\n",
        "start = time.time()\r\n",
        "\r\n",
        "for i in range(300): # number of episodes\r\n",
        "    reward_hist.append(agent1.control())\r\n",
        "\r\n",
        "print('Total Execution Time = ', (time.time() - start) / 60 , 'Min')\r\n",
        "agent1.print_agent()\r\n",
        "%matplotlib inline\r\n",
        "plt.plot(reward_hist)\r\n",
        "plt.ylabel('Reward per Episode')\r\n",
        "plt.xlabel('Episode')\r\n",
        "plt.show()"
      ],
      "execution_count": 93,
      "outputs": [
        {
          "output_type": "stream",
          "text": [
            "Total Execution Time =  2.549733579158783 Min\n"
          ],
          "name": "stdout"
        },
        {
          "output_type": "display_data",
          "data": {
            "image/png": "[encoded data removed]",
            "text/plain": [
              "<Figure size 432x288 with 1 Axes>"
            ]
          },
          "metadata": {
            "tags": [],
            "needs_background": "light"
          }
        }
      ]
    },
    {
      "cell_type": "markdown",
      "metadata": {
        "id": "xwxeGLLJt1Cb"
      },
      "source": [
        "##Off Policy MC Control"
      ]
    },
    {
      "cell_type": "code",
      "metadata": {
        "id": "bnTVgDzJt95h",
        "colab": {
          "base_uri": "https://localhost:8080/",
          "height": 760
        },
        "outputId": "583db383-548d-492e-e695-d66ba61fb92e"
      },
      "source": [
        "class OffPolicyMCAgent:\r\n",
        "    def __init__(self,environment,discount_factor = 0.9,epsilon = 0.2):\r\n",
        "        self.epsilon = epsilon\r\n",
        "        self.gamma = discount_factor\r\n",
        "        self.env = environment\r\n",
        "\r\n",
        "        self.Q = np.zeros((self.env.nS,self.env.nA))\r\n",
        "        self. C = np.zeros((self.env.nS,self.env.nA))\r\n",
        "\r\n",
        "    def behaviour(self,state):\r\n",
        "        # an epsilon greed with const epsilon\r\n",
        "        prob = np.ones(self.env.nA, dtype = np.float64) * (self.epsilon / self.env.nA)\r\n",
        "        prob[np.argmax(self.Q[state])] += 1.0 - self.epsilon\r\n",
        "        #prob = np.ones(self.env.nA) / self.env.nA # in case you want to use random polic\r\n",
        "        action = np.random.choice(np.arange(self.env.nA),p= prob)\r\n",
        "        return action\r\n",
        "\r\n",
        "    def generate_episode(self):\r\n",
        "        state = self.env.reset()\r\n",
        "        trajectory = list('')\r\n",
        "        while True:\r\n",
        "            # Decision Making Based On a  Policy\r\n",
        "            action =self.behaviour(state)\r\n",
        "            next_state, reward, done, info = self.env.step(action)\r\n",
        "            trajectory.append((state,action,reward))\r\n",
        "            state = next_state\r\n",
        "            if done:\r\n",
        "                return trajectory\r\n",
        "\r\n",
        "    def control(self):\r\n",
        "        G = 0\r\n",
        "        W = 1\r\n",
        "        episode = self.generate_episode()\r\n",
        "        for idx, step in enumerate(episode[::-1]):\r\n",
        "            G = self.gamma * G + step[2]\r\n",
        "            if step[0] not in np.array(episode[::-1])[:,0][idx+1:]:# first visit check\r\n",
        "                self.C[step[0]][step[1]]  += W\r\n",
        "                self.Q[step[0]][step[1]] += (W/self.C[step[0]][step[1]]) * (G -self.Q[step[0]][step[1]])\r\n",
        "                \r\n",
        "                action = np.argmax(self.Q[step[0]]) # target policy -> greedy argmax\r\n",
        "                if action != step[1]:\r\n",
        "                    break\r\n",
        "                \r\n",
        "                # behaviour is an epsilon soft policy\r\n",
        "                W *= (1.0/(1.0 - self.epsilon + self.epsilon / self.env.nA))\r\n",
        "        return (np.sum(episode,axis=0)[2])\r\n",
        "    \r\n",
        "    def print_agent(self):\r\n",
        "        ax = sns.heatmap(np.argmax(self.Q,axis=1).reshape((10,10)))\r\n",
        "        plt.show()\r\n",
        "        print(np.argmax(self.Q,axis=1).reshape((10,10)))\r\n",
        "\r\n",
        "    def __exit__(self):\r\n",
        "        self.env.close()\r\n",
        "        \r\n",
        "env = GridworldEnv()\r\n",
        "agent2 = OffPolicyMCAgent(env)\r\n",
        "\r\n",
        "reward_hist = list('')\r\n",
        "start = time.time()\r\n",
        "for i in range(100): # number of episodes\r\n",
        "    reward_hist.append(agent2.control())\r\n",
        "print('Total Execution Time = ', (time.time() - start) / 60 , 'Min')\r\n",
        "agent2.print_agent()\r\n",
        "%matplotlib inline\r\n",
        "plt.plot(reward_hist)\r\n",
        "plt.ylabel('Reward per Episode')\r\n",
        "plt.xlabel('Episode')\r\n",
        "plt.show()"
      ],
      "execution_count": 104,
      "outputs": [
        {
          "output_type": "stream",
          "text": [
            "Total Execution Time =  0.38423701127370197 Min\n"
          ],
          "name": "stdout"
        },
        {
          "output_type": "display_data",
          "data": {
            "image/png": "[encoded data removed]",
            "text/plain": [
              "<Figure size 432x288 with 2 Axes>"
            ]
          },
          "metadata": {
            "tags": [],
            "needs_background": "light"
          }
        },
        {
          "output_type": "stream",
          "text": [
            "[[0 2 0 0 0 0 0 0 0 0]\n",
            " [0 2 2 1 0 0 0 0 0 0]\n",
            " [0 0 0 1 0 2 0 1 0 2]\n",
            " [0 0 2 0 0 0 0 0 1 0]\n",
            " [0 1 1 0 0 0 0 0 0 0]\n",
            " [0 0 1 0 0 0 0 0 0 0]\n",
            " [0 0 0 0 0 0 0 0 0 0]\n",
            " [0 1 0 0 0 0 0 0 0 0]\n",
            " [0 0 0 0 0 0 0 0 0 0]\n",
            " [0 0 0 0 0 0 0 0 0 0]]\n"
          ],
          "name": "stdout"
        },
        {
          "output_type": "display_data",
          "data": {
            "image/png": "[encoded data removed]",
            "text/plain": [
              "<Figure size 432x288 with 1 Axes>"
            ]
          },
          "metadata": {
            "tags": [],
            "needs_background": "light"
          }
        },
        {
          "output_type": "stream",
          "text": [
            "[-133.0, -115.0, -179.0, -174.0, -377.0, -135.0, -410.0, -412.0, -225.0, -150.0, -250.0, -146.0, -36.0, -94.0, -205.0, -145.0, -153.0, -105.0, -35.0, -108.0, -45.0, -94.0, -193.0, -48.0, -87.0, -114.0, -69.0, -79.0, -129.0, -37.0, -29.0, -34.0, -126.0, -90.0, -248.0, -98.0, -537.0, -451.0, -580.0, -203.0, -172.0, -199.0, -316.0, -93.0, -1124.0, -972.0, -125.0, -62.0, -95.0, -36.0]\n"
          ],
          "name": "stdout"
        }
      ]
    },
    {
      "cell_type": "markdown",
      "metadata": {
        "id": "d6wUb9kbskrp"
      },
      "source": [
        "## SARSA"
      ]
    },
    {
      "cell_type": "code",
      "metadata": {
        "id": "L8UBRATxsgxV",
        "colab": {
          "base_uri": "https://localhost:8080/",
          "height": 790
        },
        "outputId": "a1e37d77-e4a5-4e0c-bbaa-23ac63fd2597"
      },
      "source": [
        "class SARSA:\r\n",
        "    def __init__(self, environment, discount_factor = 1.0, epsilon = 0.3, learning_rate = 0.5):\r\n",
        "        self.alpha = learning_rate\r\n",
        "        self.gamma = discount_factor\r\n",
        "        self.env = environment\r\n",
        "        self.epsilon = epsilon\r\n",
        "        \r\n",
        "        self.Q = np.zeros((self.env.nS,self.env.nA))\r\n",
        "        self.state = self.env.reset()\r\n",
        "\r\n",
        "    def probabilities(self,values):\r\n",
        "        # Calculating Probability of each action in a state out of action values\r\n",
        "        # This Function will be used for epsilon greedy decision making in control\r\n",
        "        res = np.ones(self.env.nA, dtype = np.float64) * (self.epsilon / self.env.nA)\r\n",
        "        res[np.argmax(values)] += 1.0 - self.epsilon\r\n",
        "        return res\r\n",
        "    \r\n",
        "    def control(self):\r\n",
        "        reward_sum = 0\r\n",
        "        # Choosing an Action Based On Epsilon Greedy Policy\r\n",
        "        action = np.random.choice(np.arange(self.env.nA), p=self.probabilities(self.Q[self.state]))\r\n",
        "        # Loop for single episode\r\n",
        "        while True:\r\n",
        "            \r\n",
        "            next_state, reward, done, info = self.env.step(action)\r\n",
        "            reward_sum += reward\r\n",
        "\r\n",
        "            next_action = np.random.choice(np.arange(self.env.nA),p=self.probabilities(self.Q[next_state]))\r\n",
        "            \r\n",
        "            # Temporal Difference Update\r\n",
        "            self.Q[self.state][action] += self.alpha * (reward + self.gamma * self.Q[next_state][next_action] -self.Q[self.state][action])\r\n",
        "            \r\n",
        "            if done:\r\n",
        "                self.state = self.env.reset()\r\n",
        "                break\r\n",
        "            self.state = next_state\r\n",
        "            action = next_action\r\n",
        "\r\n",
        "        return reward_sum\r\n",
        "\r\n",
        "    def print_agent(self):\r\n",
        "        ax = sns.heatmap(np.argmax(self.Q,axis=1).reshape((10,10)))\r\n",
        "        ax.set_title(\"Optimal Action in each state\")\r\n",
        "        plt.show()\r\n",
        "        print(np.argmax(self.Q,axis=1).reshape((10,10)))\r\n",
        "\r\n",
        "    def __exit(self):\r\n",
        "        self.env.close()\r\n",
        "\r\n",
        "env = GridworldEnv()\r\n",
        "agent3 = SARSA(env)\r\n",
        "reward_hist = list('')\r\n",
        "start_time = time.time()\r\n",
        "for _ in range(100):\r\n",
        "    print(_)\r\n",
        "    try:\r\n",
        "        reward_hist.append(agent3.control())\r\n",
        "    except KeyboardInterrupt:\r\n",
        "        break\r\n",
        "    print('\\b'*4)\r\n",
        "print('Total Execution Time: ', (time.time() - start_time)/60 , 'Min')\r\n",
        "agent3.print_agent()\r\n",
        "%matplotlib inline\r\n",
        "print(reward_hist)\r\n",
        "plt.plot(reward_hist)\r\n",
        "plt.ylabel('Reward Per Episode')\r\n",
        "plt.xlabel('Episode')\r\n",
        "plt.show()"
      ],
      "execution_count": 166,
      "outputs": [
        {
          "output_type": "stream",
          "text": [
            "0\n",
            "\b\b\b\b\n",
            "1\n",
            "\b\b\b\b\n",
            "2\n",
            "\b\b\b\b\n",
            "3\n",
            "\b\b\b\b\n",
            "4\n",
            "\b\b\b\b\n",
            "5\n",
            "\b\b\b\b\n",
            "6\n",
            "\b\b\b\b\n",
            "7\n",
            "\b\b\b\b\n",
            "8\n",
            "\b\b\b\b\n",
            "9\n",
            "\b\b\b\b\n",
            "10\n",
            "\b\b\b\b\n",
            "11\n",
            "\b\b\b\b\n",
            "12\n",
            "\b\b\b\b\n",
            "13\n",
            "\b\b\b\b\n",
            "14\n",
            "\b\b\b\b\n",
            "15\n",
            "\b\b\b\b\n",
            "16\n",
            "\b\b\b\b\n",
            "17\n",
            "\b\b\b\b\n",
            "18\n",
            "\b\b\b\b\n",
            "19\n",
            "\b\b\b\b\n",
            "20\n",
            "\b\b\b\b\n",
            "21\n",
            "\b\b\b\b\n",
            "22\n",
            "\b\b\b\b\n",
            "23\n",
            "\b\b\b\b\n",
            "24\n",
            "\b\b\b\b\n",
            "25\n",
            "\b\b\b\b\n",
            "26\n",
            "\b\b\b\b\n",
            "27\n",
            "\b\b\b\b\n",
            "28\n",
            "\b\b\b\b\n",
            "29\n",
            "\b\b\b\b\n",
            "30\n",
            "\b\b\b\b\n",
            "31\n",
            "\b\b\b\b\n",
            "32\n",
            "\b\b\b\b\n",
            "33\n",
            "\b\b\b\b\n",
            "34\n",
            "\b\b\b\b\n",
            "35\n",
            "\b\b\b\b\n",
            "36\n",
            "\b\b\b\b\n",
            "37\n",
            "\b\b\b\b\n",
            "38\n",
            "\b\b\b\b\n",
            "39\n",
            "\b\b\b\b\n",
            "40\n",
            "\b\b\b\b\n",
            "41\n",
            "\b\b\b\b\n",
            "42\n",
            "\b\b\b\b\n",
            "43\n",
            "\b\b\b\b\n",
            "44\n",
            "\b\b\b\b\n",
            "45\n",
            "\b\b\b\b\n",
            "46\n",
            "\b\b\b\b\n",
            "47\n",
            "\b\b\b\b\n",
            "48\n",
            "\b\b\b\b\n",
            "49\n",
            "\b\b\b\b\n",
            "50\n",
            "\b\b\b\b\n",
            "51\n",
            "\b\b\b\b\n",
            "52\n",
            "\b\b\b\b\n",
            "53\n",
            "\b\b\b\b\n",
            "54\n",
            "\b\b\b\b\n",
            "55\n",
            "\b\b\b\b\n",
            "56\n",
            "\b\b\b\b\n",
            "57\n",
            "\b\b\b\b\n",
            "58\n",
            "\b\b\b\b\n",
            "59\n",
            "\b\b\b\b\n",
            "60\n",
            "\b\b\b\b\n",
            "61\n",
            "\b\b\b\b\n",
            "62\n",
            "\b\b\b\b\n",
            "63\n",
            "\b\b\b\b\n",
            "64\n",
            "\b\b\b\b\n",
            "65\n",
            "\b\b\b\b\n",
            "66\n",
            "\b\b\b\b\n",
            "67\n",
            "\b\b\b\b\n",
            "68\n",
            "\b\b\b\b\n",
            "69\n",
            "\b\b\b\b\n",
            "70\n",
            "\b\b\b\b\n",
            "71\n",
            "\b\b\b\b\n",
            "72\n",
            "\b\b\b\b\n",
            "73\n",
            "\b\b\b\b\n",
            "74\n",
            "\b\b\b\b\n",
            "75\n",
            "\b\b\b\b\n",
            "76\n",
            "\b\b\b\b\n",
            "77\n",
            "\b\b\b\b\n",
            "78\n",
            "\b\b\b\b\n",
            "79\n",
            "\b\b\b\b\n",
            "80\n",
            "\b\b\b\b\n",
            "81\n",
            "\b\b\b\b\n",
            "82\n",
            "\b\b\b\b\n",
            "83\n",
            "\b\b\b\b\n",
            "84\n",
            "\b\b\b\b\n",
            "85\n",
            "\b\b\b\b\n",
            "86\n",
            "\b\b\b\b\n",
            "87\n",
            "\b\b\b\b\n",
            "88\n",
            "\b\b\b\b\n",
            "89\n",
            "\b\b\b\b\n",
            "90\n",
            "\b\b\b\b\n",
            "91\n",
            "\b\b\b\b\n",
            "92\n",
            "\b\b\b\b\n",
            "93\n",
            "\b\b\b\b\n",
            "94\n",
            "\b\b\b\b\n",
            "95\n",
            "\b\b\b\b\n",
            "96\n",
            "\b\b\b\b\n",
            "97\n",
            "\b\b\b\b\n",
            "98\n",
            "\b\b\b\b\n",
            "99\n",
            "\b\b\b\b\n",
            "Total Execution Time:  3.858107240994771 Min\n"
          ],
          "name": "stdout"
        },
        {
          "output_type": "display_data",
          "data": {
            "image/png": "[encoded data removed]",
            "text/plain": [
              "<Figure size 432x288 with 2 Axes>"
            ]
          },
          "metadata": {
            "tags": [],
            "needs_background": "light"
          }
        },
        {
          "output_type": "stream",
          "text": [
            "[[0 3 3 3 3 3 3 1 2 2]\n",
            " [0 3 3 0 1 1 1 1 0 2]\n",
            " [0 3 3 3 0 1 1 1 1 3]\n",
            " [3 0 3 0 0 0 1 1 2 2]\n",
            " [0 0 0 0 1 1 2 1 1 0]\n",
            " [0 3 0 0 0 2 3 1 0 2]\n",
            " [0 0 2 2 2 1 2 1 1 2]\n",
            " [0 2 1 2 2 2 1 1 2 1]\n",
            " [0 3 3 1 1 2 2 2 3 3]\n",
            " [3 3 0 1 1 1 0 1 0 0]]\n",
            "[-72.0, -109.0, -28.0, -45.0, 0.0, 0.0, 0.0, -3.0, 0.0, -6.0, -12.0, 0.0, -3.0, -42.0, -6.0, 0.0, -32.0, -3.0, -23.0, -33.0, -13.0, -13.0, -3.0, -3.0, 0.0, 0.0, -36.0, -16.0, -3.0, 0.0, -23.0, 0.0, -10.0, 0.0, -10.0, -10.0, -6.0, 0.0, -33.0, -3.0, -16.0, 0.0, -16.0, -3.0, -3.0, -9.0, -9.0, 0.0, -12.0, -3.0, -13.0, -13.0, -19.0, -23.0, -13.0, -9.0, 0.0, -23.0, -12.0, -16.0, -50.0, -55.0, -3.0, 0.0, -22.0, -12.0, -10.0, -36.0, -6.0, 0.0, -20.0, -21.0, -19.0, -31.0, -13.0, -6.0, 0.0, -6.0, -6.0, -29.0, -3.0, 0.0, 0.0, -6.0, 0.0, -10.0, 0.0, -10.0, -3.0, -34.0, -13.0, -6.0, -9.0, -15.0, -9.0, -16.0, 0.0, -9.0, -3.0, 0.0]\n"
          ],
          "name": "stdout"
        },
        {
          "output_type": "display_data",
          "data": {
            "image/png": "[encoded data removed]",
            "text/plain": [
              "<Figure size 432x288 with 1 Axes>"
            ]
          },
          "metadata": {
            "tags": [],
            "needs_background": "light"
          }
        }
      ]
    },
    {
      "cell_type": "markdown",
      "metadata": {
        "id": "qKNtYxPwQ5BK"
      },
      "source": [
        "##Double Q-Learning"
      ]
    },
    {
      "cell_type": "code",
      "metadata": {
        "id": "1IYAyqMUQ767",
        "colab": {
          "base_uri": "https://localhost:8080/",
          "height": 830
        },
        "outputId": "ade06f9b-5e06-47f5-82fa-2e273ea92457"
      },
      "source": [
        "class DQAgent:\r\n",
        "    def __init__(self, environment, discount_factor = 0.9, epsilon = 0.2 , learning_rate = 0.1):\r\n",
        "        self.alpha = learning_rate\r\n",
        "        self.gamma = discount_factor\r\n",
        "        self.epsilon = epsilon\r\n",
        "        self.env = environment\r\n",
        "        self.state = self.env.reset()\r\n",
        "\r\n",
        "        self.Q1 = np.zeros((self.env.nS,self.env.nA))\r\n",
        "        self.Q2 = np.zeros((self.env.nS,self.env.nA))\r\n",
        "        \r\n",
        "    def probabilities(self,values):\r\n",
        "        # Calculating Probability of each action in a state out of action values\r\n",
        "        # This Function will be used for greedy decision making in control\r\n",
        "        res = np.ones(self.env.nA, dtype = np.float64) * (self.epsilon / self.env.nA)\r\n",
        "        res[np.argmax(values)] += 1.0 - self.epsilon\r\n",
        "        return res\r\n",
        "    \r\n",
        "    def control(self):\r\n",
        "        # Loop for each step of episode\r\n",
        "        while True:\r\n",
        "            action = np.random.choice(np.arange(self.env.nA),p=self.probabilities(self.Q1[self.state] + self.Q2[self.state]))\r\n",
        "            next_state, reward, done, info = self.env.step(action)\r\n",
        "            # Update one of the Q-Values Only\r\n",
        "            if np.random.uniform(0,1) > 0.5:\r\n",
        "                self.Q1[self.state][action] += self.alpha * (reward + self.gamma * self.Q2[next_state][np.argmax(self.Q1[next_state])] - self.Q1[self.state][action])\r\n",
        "            else:\r\n",
        "                self.Q2[self.state][action] += self.alpha * (reward + self.gamma * self.Q1[next_state][np.argmax(self.Q2[next_state])] - self.Q2[self.state][action])\r\n",
        "            self.state = next_state\r\n",
        "            if done :\r\n",
        "                self.state = self.env.reset()\r\n",
        "                break\r\n",
        "    \r\n",
        "    def print_agent(self):\r\n",
        "        ax1 = sns.heatmap(np.argmax(self.Q1,axis=1).reshape((10,10)))\r\n",
        "        ax1.set_title(\"Optimal Action Base On Q1\")\r\n",
        "        plt.show()\r\n",
        "\r\n",
        "        ax2 = sns.heatmap(np.argmax(self.Q2,axis=1).reshape((10,10)))\r\n",
        "        ax2.set_title(\"Optimal Action Base On Q2\")\r\n",
        "        plt.show() \r\n",
        "\r\n",
        "    def __exit(self):\r\n",
        "        self.env.close()\r\n",
        "\r\n",
        "\r\n",
        "env =  GridworldEnv()\r\n",
        "agent4 = DQAgent(env)\r\n",
        "\r\n",
        "start_time = time.time()\r\n",
        "for _ in range(100):\r\n",
        "    agent4.control()\r\n",
        "print('Total Execution Time: ', (time.time() - start_time)/60 , 'Min')\r\n",
        "agent4.print_agent()\r\n",
        "%matplotlib inline\r\n",
        "plt.plot(reward_hist)\r\n",
        "plt.ylabel('Reward Per Episode')\r\n",
        "plt.xlabel('Episode')\r\n",
        "plt.show()"
      ],
      "execution_count": 170,
      "outputs": [
        {
          "output_type": "stream",
          "text": [
            "Total Execution Time:  0.10326035817464192 Min\n"
          ],
          "name": "stdout"
        },
        {
          "output_type": "display_data",
          "data": {
            "image/png": "[encoded data removed]",
            "text/plain": [
              "<Figure size 432x288 with 2 Axes>"
            ]
          },
          "metadata": {
            "tags": [],
            "needs_background": "light"
          }
        },
        {
          "output_type": "display_data",
          "data": {
            "image/png": "[encoded data removed]",
            "text/plain": [
              "<Figure size 432x288 with 2 Axes>"
            ]
          },
          "metadata": {
            "tags": [],
            "needs_background": "light"
          }
        },
        {
          "output_type": "display_data",
          "data": {
            "image/png": "[encoded data removed]",
            "text/plain": [
              "<Figure size 432x288 with 1 Axes>"
            ]
          },
          "metadata": {
            "tags": [],
            "needs_background": "light"
          }
        }
      ]
    },
    {
      "cell_type": "markdown",
      "metadata": {
        "id": "F6H-ml6Dr-sM"
      },
      "source": [
        "## Two step Expected SARSA\r\n",
        "*n-step off-policy SARSA for estimating Q*"
      ]
    },
    {
      "cell_type": "code",
      "metadata": {
        "id": "aWwNtPFusFzL",
        "colab": {
          "base_uri": "https://localhost:8080/",
          "height": 752
        },
        "outputId": "d384d69b-a855-41fd-a22f-9020d80f94b5"
      },
      "source": [
        "class NStepSARSA:\r\n",
        "    def __init__(self,environment,n = 2,discount_factor = 0.9, learning_rate = 0.1):\r\n",
        "        self.gamma = discount_factor\r\n",
        "        self.alpha = learning_rate\r\n",
        "        self.env = environment\r\n",
        "        self.n = n # n-step SARSA\r\n",
        "\r\n",
        "        self.Q = np.zeros((self.env.nS,self.env.nA))\r\n",
        "\r\n",
        "    def behaviour(self,state, epsilon = 0.3):\r\n",
        "        # Behaviour policy is an epsilon greedy policy with constant epsilon\r\n",
        "        res = np.ones(self.env.nA, dtype = np.float64) * (epsilon / self.env.nA)\r\n",
        "        res[np.argmax(self.Q[state])] += 1.0 - epsilon\r\n",
        "        return res\r\n",
        "    \r\n",
        "    def target(self, state, epsilon = 0.1):\r\n",
        "        # Behaviour policy is an epsilon greedy policy too but woth smaller epsilon\r\n",
        "        res = np.ones(self.env.nA, dtype = np.float64) * (epsilon / self.env.nA)\r\n",
        "        res[np.argmax(self.Q[state])] += 1.0 - epsilon\r\n",
        "        return res\r\n",
        "    \r\n",
        "    def run(self, episode_number):\r\n",
        "\r\n",
        "        reward_per_episode = [0] * episode_number\r\n",
        "\r\n",
        "        for num_episode in range(episode_number):\r\n",
        "            state = self.env.reset()\r\n",
        "            T = sys.maxsize\r\n",
        "            t = -1\r\n",
        "            tau = 0\r\n",
        "\r\n",
        "            actions = {}\r\n",
        "            states = {}\r\n",
        "            rewards = {}\r\n",
        "\r\n",
        "            A0 = np.random.choice(np.arange(self.env.nA), p=self.behaviour(state)) \r\n",
        "            actions[0] = A0\r\n",
        "            states[0] = state\r\n",
        "\r\n",
        "            while  tau < (T-1):\r\n",
        "                t += 1\r\n",
        "                if t < T:\r\n",
        "                    #print('checking n step')\r\n",
        "                    state, reward, done, info = self.env.step(A0)\r\n",
        "\r\n",
        "                    reward_per_episode[num_episode] += reward\r\n",
        "                    rewards[(t+1) % (self.n+1)] = reward\r\n",
        "                    states[(t+1) % (self.n+1)] = state\r\n",
        "\r\n",
        "                    if done or t == 500: \r\n",
        "                        T = t + 1\r\n",
        "                        #print('episode done')\r\n",
        "                    else:\r\n",
        "                        #print('episode not done')\r\n",
        "                        A0 = np.random.choice(np.arange(self.env.nA),p=self.behaviour(state))\r\n",
        "                        actions[(t+1) % (self.n+1)] = A0\r\n",
        "\r\n",
        "                tau = t - self.n + 1\r\n",
        "                if tau >= 0:\r\n",
        "                    #print('updating....')\r\n",
        "                    rho = np.prod([self.target(states[i%(self.n+1)])[actions[i%(self.n+1)]]/(self.behaviour(states[i%(self.n+1)])[actions[i%(self.n+1)]]) for i in range(tau+1, min(tau+self.n-1, T-1)+1)])\r\n",
        "                    \r\n",
        "                    G = np.sum([(self.gamma**(i-tau-1))*rewards[i%(self.n+1)] for i in range(tau+1, min(tau+self.n, T)+1)])\r\n",
        "\r\n",
        "                    if (tau + self.n) < T:\r\n",
        "                        G += (self.gamma**self.n) * self.Q[states[(tau+self.n) % (self.n+1)]][actions[(tau+self.n) % (self.n+1)]]\r\n",
        "\r\n",
        "                    self.Q[states[tau % (self.n+1)]][actions[tau % (self.n+1)]] += self.alpha * rho * (G - self.Q[states[tau % (self.n+1)]][actions[tau % (self.n+1)]])\r\n",
        "            \r\n",
        "\r\n",
        "        self.plot_agent(reward_per_episode)\r\n",
        "    \r\n",
        "    def plot_agent(self, episode_reward):\r\n",
        "        %matplotlib inline\r\n",
        "        plt.plot(episode_reward)\r\n",
        "        plt.title('Agents Progress')\r\n",
        "        plt.ylabel(\"episode\")\r\n",
        "        plt.xlabel('total reward')\r\n",
        "        plt.show()\r\n",
        "\r\n",
        "        ax2 = sns.heatmap(np.argmax(self.Q,axis=1).reshape((10,10)))\r\n",
        "        ax2.set_title(\"Optimal Action\")\r\n",
        "        plt.show()\r\n",
        "        print(np.argmax(self.Q,axis=1).reshape((10,10))) \r\n",
        "\r\n",
        "env =  GridworldEnv()\r\n",
        "agent5 = NStepSARSA(env)\r\n",
        "start_time = time.time()\r\n",
        "agent5.run(100)                 \r\n",
        "print('Total execution Time: ', (time.time() - start_time)/60, 'Min')\r\n"
      ],
      "execution_count": 181,
      "outputs": [
        {
          "output_type": "display_data",
          "data": {
            "image/png": "[encoded data removed]",
            "text/plain": [
              "<Figure size 432x288 with 1 Axes>"
            ]
          },
          "metadata": {
            "tags": [],
            "needs_background": "light"
          }
        },
        {
          "output_type": "display_data",
          "data": {
            "image/png": "[encoded data removed]",
            "text/plain": [
              "<Figure size 432x288 with 2 Axes>"
            ]
          },
          "metadata": {
            "tags": [],
            "needs_background": "light"
          }
        },
        {
          "output_type": "stream",
          "text": [
            "[[0 0 3 3 0 2 1 1 1 2]\n",
            " [0 2 0 2 1 1 0 0 0 0]\n",
            " [0 0 2 2 1 1 1 0 1 0]\n",
            " [0 0 0 0 0 0 0 1 1 0]\n",
            " [0 3 0 0 1 1 1 1 2 2]\n",
            " [0 3 2 0 0 1 0 1 1 2]\n",
            " [0 0 3 1 3 2 2 2 1 2]\n",
            " [0 0 3 3 3 0 2 1 2 2]\n",
            " [0 0 0 1 3 2 2 2 2 2]\n",
            " [0 0 0 3 1 1 1 1 2 3]]\n",
            "Total execution Time:  0.08715939521789551 Min\n"
          ],
          "name": "stdout"
        }
      ]
    },
    {
      "cell_type": "markdown",
      "metadata": {
        "id": "IvLjEvn7sdKw"
      },
      "source": [
        "## Tree Back-up"
      ]
    },
    {
      "cell_type": "code",
      "metadata": {
        "colab": {
          "base_uri": "https://localhost:8080/"
        },
        "id": "TUpGiBCYsf7u",
        "outputId": "c5556825-e392-481e-dd78-70b285e283e9"
      },
      "source": [
        "class TBAgent:\r\n",
        "    def __init__(self,environment, n, discount_factor = 0.8, epsilon = 0.2, learning_rate = 0.1):\r\n",
        "        \r\n",
        "        pass\r\n"
      ],
      "execution_count": null,
      "outputs": [
        {
          "output_type": "execute_result",
          "data": {
            "text/plain": [
              "1"
            ]
          },
          "metadata": {
            "tags": []
          },
          "execution_count": 60
        }
      ]
    }
  ]
}